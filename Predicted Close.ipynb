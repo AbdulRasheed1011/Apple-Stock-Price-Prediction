{
 "cells": [
  {
   "cell_type": "code",
   "execution_count": 2,
   "id": "55a5daf6",
   "metadata": {},
   "outputs": [],
   "source": [
    "import pandas as pd\n",
    "import numpy as np\n",
    "import seaborn as sns\n",
    "import matplotlib.pyplot as plt\n",
    "import matplotlib.axes as ax\n",
    "from sklearn.model_selection import train_test_split\n",
    "from sklearn.linear_model import LinearRegression\n",
    "from sklearn.metrics import mean_squared_error\n",
    "import statsmodels.api as sm"
   ]
  },
  {
   "cell_type": "code",
   "execution_count": 13,
   "id": "72421be2",
   "metadata": {},
   "outputs": [],
   "source": [
    "df = pd.read_csv('archive-2/AAPL.csv')"
   ]
  },
  {
   "cell_type": "code",
   "execution_count": 14,
   "id": "b4c56469",
   "metadata": {},
   "outputs": [
    {
     "data": {
      "text/html": [
       "<div>\n",
       "<style scoped>\n",
       "    .dataframe tbody tr th:only-of-type {\n",
       "        vertical-align: middle;\n",
       "    }\n",
       "\n",
       "    .dataframe tbody tr th {\n",
       "        vertical-align: top;\n",
       "    }\n",
       "\n",
       "    .dataframe thead th {\n",
       "        text-align: right;\n",
       "    }\n",
       "</style>\n",
       "<table border=\"1\" class=\"dataframe\">\n",
       "  <thead>\n",
       "    <tr style=\"text-align: right;\">\n",
       "      <th></th>\n",
       "      <th>Date</th>\n",
       "      <th>Open_</th>\n",
       "      <th>High</th>\n",
       "      <th>Low</th>\n",
       "      <th>Close_</th>\n",
       "      <th>Volume</th>\n",
       "      <th>SD20</th>\n",
       "      <th>Upper_Band</th>\n",
       "      <th>Lower_Band</th>\n",
       "      <th>S_Close(t-1)</th>\n",
       "      <th>...</th>\n",
       "      <th>QQQ_MA10</th>\n",
       "      <th>QQQ_MA20</th>\n",
       "      <th>QQQ_MA50</th>\n",
       "      <th>SnP_Close</th>\n",
       "      <th>SnP(t-1))</th>\n",
       "      <th>SnP(t-5)</th>\n",
       "      <th>DJIA_Close</th>\n",
       "      <th>DJIA(t-1))</th>\n",
       "      <th>DJIA(t-5)</th>\n",
       "      <th>Close_forcast</th>\n",
       "    </tr>\n",
       "  </thead>\n",
       "  <tbody>\n",
       "    <tr>\n",
       "      <th>0</th>\n",
       "      <td>17/10/05</td>\n",
       "      <td>6.66</td>\n",
       "      <td>6.69</td>\n",
       "      <td>6.50</td>\n",
       "      <td>6.60</td>\n",
       "      <td>154208600</td>\n",
       "      <td>0.169237</td>\n",
       "      <td>6.827473</td>\n",
       "      <td>6.150527</td>\n",
       "      <td>6.67</td>\n",
       "      <td>...</td>\n",
       "      <td>33.692</td>\n",
       "      <td>33.9970</td>\n",
       "      <td>34.2690</td>\n",
       "      <td>1190.10</td>\n",
       "      <td>1186.57</td>\n",
       "      <td>1187.33</td>\n",
       "      <td>10348.10</td>\n",
       "      <td>10287.34</td>\n",
       "      <td>10238.76</td>\n",
       "      <td>6.45</td>\n",
       "    </tr>\n",
       "    <tr>\n",
       "      <th>1</th>\n",
       "      <td>18/10/05</td>\n",
       "      <td>6.57</td>\n",
       "      <td>6.66</td>\n",
       "      <td>6.44</td>\n",
       "      <td>6.45</td>\n",
       "      <td>152397000</td>\n",
       "      <td>0.168339</td>\n",
       "      <td>6.819677</td>\n",
       "      <td>6.146323</td>\n",
       "      <td>6.60</td>\n",
       "      <td>...</td>\n",
       "      <td>33.570</td>\n",
       "      <td>33.9525</td>\n",
       "      <td>34.2466</td>\n",
       "      <td>1178.14</td>\n",
       "      <td>1190.10</td>\n",
       "      <td>1184.87</td>\n",
       "      <td>10285.26</td>\n",
       "      <td>10348.10</td>\n",
       "      <td>10253.17</td>\n",
       "      <td>6.78</td>\n",
       "    </tr>\n",
       "    <tr>\n",
       "      <th>2</th>\n",
       "      <td>19/10/05</td>\n",
       "      <td>6.43</td>\n",
       "      <td>6.78</td>\n",
       "      <td>6.32</td>\n",
       "      <td>6.78</td>\n",
       "      <td>252170800</td>\n",
       "      <td>0.180306</td>\n",
       "      <td>6.861112</td>\n",
       "      <td>6.139888</td>\n",
       "      <td>6.45</td>\n",
       "      <td>...</td>\n",
       "      <td>33.562</td>\n",
       "      <td>33.9600</td>\n",
       "      <td>34.2330</td>\n",
       "      <td>1195.76</td>\n",
       "      <td>1178.14</td>\n",
       "      <td>1177.68</td>\n",
       "      <td>10414.13</td>\n",
       "      <td>10285.26</td>\n",
       "      <td>10216.91</td>\n",
       "      <td>6.93</td>\n",
       "    </tr>\n",
       "    <tr>\n",
       "      <th>3</th>\n",
       "      <td>20/10/05</td>\n",
       "      <td>6.72</td>\n",
       "      <td>6.97</td>\n",
       "      <td>6.71</td>\n",
       "      <td>6.93</td>\n",
       "      <td>339440500</td>\n",
       "      <td>0.202674</td>\n",
       "      <td>6.931847</td>\n",
       "      <td>6.121153</td>\n",
       "      <td>6.78</td>\n",
       "      <td>...</td>\n",
       "      <td>33.567</td>\n",
       "      <td>33.9455</td>\n",
       "      <td>34.2190</td>\n",
       "      <td>1177.80</td>\n",
       "      <td>1195.76</td>\n",
       "      <td>1176.84</td>\n",
       "      <td>10281.10</td>\n",
       "      <td>10414.13</td>\n",
       "      <td>10216.59</td>\n",
       "      <td>6.87</td>\n",
       "    </tr>\n",
       "    <tr>\n",
       "      <th>4</th>\n",
       "      <td>21/10/05</td>\n",
       "      <td>7.02</td>\n",
       "      <td>7.03</td>\n",
       "      <td>6.83</td>\n",
       "      <td>6.87</td>\n",
       "      <td>199181500</td>\n",
       "      <td>0.216680</td>\n",
       "      <td>6.974860</td>\n",
       "      <td>6.108140</td>\n",
       "      <td>6.93</td>\n",
       "      <td>...</td>\n",
       "      <td>33.586</td>\n",
       "      <td>33.9365</td>\n",
       "      <td>34.2034</td>\n",
       "      <td>1179.59</td>\n",
       "      <td>1177.80</td>\n",
       "      <td>1186.57</td>\n",
       "      <td>10215.22</td>\n",
       "      <td>10281.10</td>\n",
       "      <td>10287.34</td>\n",
       "      <td>7.01</td>\n",
       "    </tr>\n",
       "    <tr>\n",
       "      <th>...</th>\n",
       "      <td>...</td>\n",
       "      <td>...</td>\n",
       "      <td>...</td>\n",
       "      <td>...</td>\n",
       "      <td>...</td>\n",
       "      <td>...</td>\n",
       "      <td>...</td>\n",
       "      <td>...</td>\n",
       "      <td>...</td>\n",
       "      <td>...</td>\n",
       "      <td>...</td>\n",
       "      <td>...</td>\n",
       "      <td>...</td>\n",
       "      <td>...</td>\n",
       "      <td>...</td>\n",
       "      <td>...</td>\n",
       "      <td>...</td>\n",
       "      <td>...</td>\n",
       "      <td>...</td>\n",
       "      <td>...</td>\n",
       "      <td>...</td>\n",
       "    </tr>\n",
       "    <tr>\n",
       "      <th>3727</th>\n",
       "      <td>07/08/20</td>\n",
       "      <td>452.82</td>\n",
       "      <td>454.70</td>\n",
       "      <td>441.17</td>\n",
       "      <td>444.45</td>\n",
       "      <td>49453300</td>\n",
       "      <td>27.954399</td>\n",
       "      <td>455.316298</td>\n",
       "      <td>343.498702</td>\n",
       "      <td>454.79</td>\n",
       "      <td>...</td>\n",
       "      <td>266.054</td>\n",
       "      <td>263.4085</td>\n",
       "      <td>252.2098</td>\n",
       "      <td>3351.28</td>\n",
       "      <td>3349.16</td>\n",
       "      <td>3271.12</td>\n",
       "      <td>27433.48</td>\n",
       "      <td>27386.98</td>\n",
       "      <td>26428.32</td>\n",
       "      <td>450.91</td>\n",
       "    </tr>\n",
       "    <tr>\n",
       "      <th>3728</th>\n",
       "      <td>10/08/20</td>\n",
       "      <td>450.40</td>\n",
       "      <td>455.10</td>\n",
       "      <td>440.00</td>\n",
       "      <td>450.91</td>\n",
       "      <td>53100900</td>\n",
       "      <td>29.847338</td>\n",
       "      <td>462.586675</td>\n",
       "      <td>343.197325</td>\n",
       "      <td>444.45</td>\n",
       "      <td>...</td>\n",
       "      <td>267.073</td>\n",
       "      <td>263.9970</td>\n",
       "      <td>252.9570</td>\n",
       "      <td>3360.47</td>\n",
       "      <td>3351.28</td>\n",
       "      <td>3294.61</td>\n",
       "      <td>27791.44</td>\n",
       "      <td>27433.48</td>\n",
       "      <td>26664.40</td>\n",
       "      <td>437.50</td>\n",
       "    </tr>\n",
       "    <tr>\n",
       "      <th>3729</th>\n",
       "      <td>11/08/20</td>\n",
       "      <td>447.88</td>\n",
       "      <td>449.93</td>\n",
       "      <td>436.43</td>\n",
       "      <td>437.50</td>\n",
       "      <td>46975600</td>\n",
       "      <td>30.576290</td>\n",
       "      <td>466.543079</td>\n",
       "      <td>344.237921</td>\n",
       "      <td>450.91</td>\n",
       "      <td>...</td>\n",
       "      <td>267.911</td>\n",
       "      <td>264.2380</td>\n",
       "      <td>253.5878</td>\n",
       "      <td>3333.69</td>\n",
       "      <td>3360.47</td>\n",
       "      <td>3306.51</td>\n",
       "      <td>27686.91</td>\n",
       "      <td>27791.44</td>\n",
       "      <td>26828.47</td>\n",
       "      <td>452.04</td>\n",
       "    </tr>\n",
       "    <tr>\n",
       "      <th>3730</th>\n",
       "      <td>12/08/20</td>\n",
       "      <td>441.99</td>\n",
       "      <td>453.10</td>\n",
       "      <td>441.19</td>\n",
       "      <td>452.04</td>\n",
       "      <td>41486200</td>\n",
       "      <td>32.050532</td>\n",
       "      <td>472.583564</td>\n",
       "      <td>344.381436</td>\n",
       "      <td>437.50</td>\n",
       "      <td>...</td>\n",
       "      <td>269.120</td>\n",
       "      <td>264.7860</td>\n",
       "      <td>254.3206</td>\n",
       "      <td>3380.35</td>\n",
       "      <td>3333.69</td>\n",
       "      <td>3327.77</td>\n",
       "      <td>27976.84</td>\n",
       "      <td>27686.91</td>\n",
       "      <td>27201.52</td>\n",
       "      <td>460.04</td>\n",
       "    </tr>\n",
       "    <tr>\n",
       "      <th>3731</th>\n",
       "      <td>13/08/20</td>\n",
       "      <td>457.72</td>\n",
       "      <td>464.17</td>\n",
       "      <td>455.71</td>\n",
       "      <td>460.04</td>\n",
       "      <td>52520500</td>\n",
       "      <td>33.532634</td>\n",
       "      <td>479.279768</td>\n",
       "      <td>345.149232</td>\n",
       "      <td>452.04</td>\n",
       "      <td>...</td>\n",
       "      <td>270.255</td>\n",
       "      <td>265.4540</td>\n",
       "      <td>255.0446</td>\n",
       "      <td>3373.43</td>\n",
       "      <td>3380.35</td>\n",
       "      <td>3349.16</td>\n",
       "      <td>27896.72</td>\n",
       "      <td>27976.84</td>\n",
       "      <td>27386.98</td>\n",
       "      <td>459.63</td>\n",
       "    </tr>\n",
       "  </tbody>\n",
       "</table>\n",
       "<p>3732 rows × 64 columns</p>\n",
       "</div>"
      ],
      "text/plain": [
       "          Date   Open_    High     Low  Close_     Volume       SD20  \\\n",
       "0     17/10/05    6.66    6.69    6.50    6.60  154208600   0.169237   \n",
       "1     18/10/05    6.57    6.66    6.44    6.45  152397000   0.168339   \n",
       "2     19/10/05    6.43    6.78    6.32    6.78  252170800   0.180306   \n",
       "3     20/10/05    6.72    6.97    6.71    6.93  339440500   0.202674   \n",
       "4     21/10/05    7.02    7.03    6.83    6.87  199181500   0.216680   \n",
       "...        ...     ...     ...     ...     ...        ...        ...   \n",
       "3727  07/08/20  452.82  454.70  441.17  444.45   49453300  27.954399   \n",
       "3728  10/08/20  450.40  455.10  440.00  450.91   53100900  29.847338   \n",
       "3729  11/08/20  447.88  449.93  436.43  437.50   46975600  30.576290   \n",
       "3730  12/08/20  441.99  453.10  441.19  452.04   41486200  32.050532   \n",
       "3731  13/08/20  457.72  464.17  455.71  460.04   52520500  33.532634   \n",
       "\n",
       "      Upper_Band  Lower_Band  S_Close(t-1)  ...  QQQ_MA10  QQQ_MA20  QQQ_MA50  \\\n",
       "0       6.827473    6.150527          6.67  ...    33.692   33.9970   34.2690   \n",
       "1       6.819677    6.146323          6.60  ...    33.570   33.9525   34.2466   \n",
       "2       6.861112    6.139888          6.45  ...    33.562   33.9600   34.2330   \n",
       "3       6.931847    6.121153          6.78  ...    33.567   33.9455   34.2190   \n",
       "4       6.974860    6.108140          6.93  ...    33.586   33.9365   34.2034   \n",
       "...          ...         ...           ...  ...       ...       ...       ...   \n",
       "3727  455.316298  343.498702        454.79  ...   266.054  263.4085  252.2098   \n",
       "3728  462.586675  343.197325        444.45  ...   267.073  263.9970  252.9570   \n",
       "3729  466.543079  344.237921        450.91  ...   267.911  264.2380  253.5878   \n",
       "3730  472.583564  344.381436        437.50  ...   269.120  264.7860  254.3206   \n",
       "3731  479.279768  345.149232        452.04  ...   270.255  265.4540  255.0446   \n",
       "\n",
       "      SnP_Close  SnP(t-1))  SnP(t-5)  DJIA_Close  DJIA(t-1))  DJIA(t-5)  \\\n",
       "0       1190.10    1186.57   1187.33    10348.10    10287.34   10238.76   \n",
       "1       1178.14    1190.10   1184.87    10285.26    10348.10   10253.17   \n",
       "2       1195.76    1178.14   1177.68    10414.13    10285.26   10216.91   \n",
       "3       1177.80    1195.76   1176.84    10281.10    10414.13   10216.59   \n",
       "4       1179.59    1177.80   1186.57    10215.22    10281.10   10287.34   \n",
       "...         ...        ...       ...         ...         ...        ...   \n",
       "3727    3351.28    3349.16   3271.12    27433.48    27386.98   26428.32   \n",
       "3728    3360.47    3351.28   3294.61    27791.44    27433.48   26664.40   \n",
       "3729    3333.69    3360.47   3306.51    27686.91    27791.44   26828.47   \n",
       "3730    3380.35    3333.69   3327.77    27976.84    27686.91   27201.52   \n",
       "3731    3373.43    3380.35   3349.16    27896.72    27976.84   27386.98   \n",
       "\n",
       "      Close_forcast  \n",
       "0              6.45  \n",
       "1              6.78  \n",
       "2              6.93  \n",
       "3              6.87  \n",
       "4              7.01  \n",
       "...             ...  \n",
       "3727         450.91  \n",
       "3728         437.50  \n",
       "3729         452.04  \n",
       "3730         460.04  \n",
       "3731         459.63  \n",
       "\n",
       "[3732 rows x 64 columns]"
      ]
     },
     "execution_count": 14,
     "metadata": {},
     "output_type": "execute_result"
    }
   ],
   "source": [
    "df"
   ]
  },
  {
   "cell_type": "code",
   "execution_count": 15,
   "id": "06ad7362",
   "metadata": {},
   "outputs": [
    {
     "name": "stdout",
     "output_type": "stream",
     "text": [
      "<class 'pandas.core.frame.DataFrame'>\n",
      "RangeIndex: 3732 entries, 0 to 3731\n",
      "Data columns (total 64 columns):\n",
      " #   Column            Non-Null Count  Dtype  \n",
      "---  ------            --------------  -----  \n",
      " 0   Date              3732 non-null   object \n",
      " 1   Open_             3732 non-null   float64\n",
      " 2   High              3732 non-null   float64\n",
      " 3   Low               3732 non-null   float64\n",
      " 4   Close_            3732 non-null   float64\n",
      " 5   Volume            3732 non-null   int64  \n",
      " 6   SD20              3732 non-null   float64\n",
      " 7   Upper_Band        3732 non-null   float64\n",
      " 8   Lower_Band        3732 non-null   float64\n",
      " 9   S_Close(t-1)      3732 non-null   float64\n",
      " 10  S_Close(t-2)      3732 non-null   float64\n",
      " 11  S_Close(t-3)      3732 non-null   float64\n",
      " 12  S_Close(t-5)      3732 non-null   float64\n",
      " 13  S_Open(t-1)       3732 non-null   float64\n",
      " 14  MA5               3732 non-null   float64\n",
      " 15  MA10              3732 non-null   float64\n",
      " 16  MA20              3732 non-null   float64\n",
      " 17  MA50              3732 non-null   float64\n",
      " 18  MA200             3732 non-null   float64\n",
      " 19  EMA10             3732 non-null   float64\n",
      " 20  EMA20             3732 non-null   float64\n",
      " 21  EMA50             3732 non-null   float64\n",
      " 22  EMA100            3732 non-null   float64\n",
      " 23  EMA200            3732 non-null   float64\n",
      " 24  MACD              3732 non-null   float64\n",
      " 25  MACD_EMA          3732 non-null   float64\n",
      " 26  ATR               3732 non-null   float64\n",
      " 27  ADX               3732 non-null   float64\n",
      " 28  CCI               3732 non-null   float64\n",
      " 29  ROC               3732 non-null   float64\n",
      " 30  RSI               3732 non-null   float64\n",
      " 31  William%R         3732 non-null   float64\n",
      " 32  SO%K              3732 non-null   float64\n",
      " 33  STD5              3732 non-null   float64\n",
      " 34  ForceIndex1       3732 non-null   float64\n",
      " 35  ForceIndex20      3732 non-null   float64\n",
      " 36  Date_col          3732 non-null   object \n",
      " 37  Day               3732 non-null   int64  \n",
      " 38  DayofWeek         3732 non-null   int64  \n",
      " 39  DayofYear         3732 non-null   int64  \n",
      " 40  Week              3732 non-null   int64  \n",
      " 41  Is_month_end      3732 non-null   int64  \n",
      " 42  Is_month_start    3732 non-null   int64  \n",
      " 43  Is_quarter_end    3732 non-null   int64  \n",
      " 44  Is_quarter_start  3732 non-null   int64  \n",
      " 45  Is_year_end       3732 non-null   int64  \n",
      " 46  Is_year_start     3732 non-null   int64  \n",
      " 47  Is_leap_year      3732 non-null   int64  \n",
      " 48  Year              3732 non-null   int64  \n",
      " 49  Month             3732 non-null   int64  \n",
      " 50  QQQ_Close         3732 non-null   float64\n",
      " 51  QQQ(t-1)          3732 non-null   float64\n",
      " 52  QQQ(t-2)          3732 non-null   float64\n",
      " 53  QQQ(t-5)          3732 non-null   float64\n",
      " 54  QQQ_MA10          3732 non-null   float64\n",
      " 55  QQQ_MA20          3732 non-null   float64\n",
      " 56  QQQ_MA50          3732 non-null   float64\n",
      " 57  SnP_Close         3732 non-null   float64\n",
      " 58  SnP(t-1))         3732 non-null   float64\n",
      " 59  SnP(t-5)          3732 non-null   float64\n",
      " 60  DJIA_Close        3732 non-null   float64\n",
      " 61  DJIA(t-1))        3732 non-null   float64\n",
      " 62  DJIA(t-5)         3732 non-null   float64\n",
      " 63  Close_forcast     3732 non-null   float64\n",
      "dtypes: float64(48), int64(14), object(2)\n",
      "memory usage: 1.8+ MB\n"
     ]
    }
   ],
   "source": [
    "df.info()"
   ]
  },
  {
   "cell_type": "code",
   "execution_count": 17,
   "id": "ca24d3f8",
   "metadata": {},
   "outputs": [],
   "source": [
    "x = df.iloc[:,1:4]"
   ]
  },
  {
   "cell_type": "code",
   "execution_count": 18,
   "id": "3b207733",
   "metadata": {},
   "outputs": [
    {
     "data": {
      "text/html": [
       "<div>\n",
       "<style scoped>\n",
       "    .dataframe tbody tr th:only-of-type {\n",
       "        vertical-align: middle;\n",
       "    }\n",
       "\n",
       "    .dataframe tbody tr th {\n",
       "        vertical-align: top;\n",
       "    }\n",
       "\n",
       "    .dataframe thead th {\n",
       "        text-align: right;\n",
       "    }\n",
       "</style>\n",
       "<table border=\"1\" class=\"dataframe\">\n",
       "  <thead>\n",
       "    <tr style=\"text-align: right;\">\n",
       "      <th></th>\n",
       "      <th>Open_</th>\n",
       "      <th>High</th>\n",
       "      <th>Low</th>\n",
       "    </tr>\n",
       "  </thead>\n",
       "  <tbody>\n",
       "    <tr>\n",
       "      <th>0</th>\n",
       "      <td>6.66</td>\n",
       "      <td>6.69</td>\n",
       "      <td>6.50</td>\n",
       "    </tr>\n",
       "    <tr>\n",
       "      <th>1</th>\n",
       "      <td>6.57</td>\n",
       "      <td>6.66</td>\n",
       "      <td>6.44</td>\n",
       "    </tr>\n",
       "    <tr>\n",
       "      <th>2</th>\n",
       "      <td>6.43</td>\n",
       "      <td>6.78</td>\n",
       "      <td>6.32</td>\n",
       "    </tr>\n",
       "    <tr>\n",
       "      <th>3</th>\n",
       "      <td>6.72</td>\n",
       "      <td>6.97</td>\n",
       "      <td>6.71</td>\n",
       "    </tr>\n",
       "    <tr>\n",
       "      <th>4</th>\n",
       "      <td>7.02</td>\n",
       "      <td>7.03</td>\n",
       "      <td>6.83</td>\n",
       "    </tr>\n",
       "    <tr>\n",
       "      <th>...</th>\n",
       "      <td>...</td>\n",
       "      <td>...</td>\n",
       "      <td>...</td>\n",
       "    </tr>\n",
       "    <tr>\n",
       "      <th>3727</th>\n",
       "      <td>452.82</td>\n",
       "      <td>454.70</td>\n",
       "      <td>441.17</td>\n",
       "    </tr>\n",
       "    <tr>\n",
       "      <th>3728</th>\n",
       "      <td>450.40</td>\n",
       "      <td>455.10</td>\n",
       "      <td>440.00</td>\n",
       "    </tr>\n",
       "    <tr>\n",
       "      <th>3729</th>\n",
       "      <td>447.88</td>\n",
       "      <td>449.93</td>\n",
       "      <td>436.43</td>\n",
       "    </tr>\n",
       "    <tr>\n",
       "      <th>3730</th>\n",
       "      <td>441.99</td>\n",
       "      <td>453.10</td>\n",
       "      <td>441.19</td>\n",
       "    </tr>\n",
       "    <tr>\n",
       "      <th>3731</th>\n",
       "      <td>457.72</td>\n",
       "      <td>464.17</td>\n",
       "      <td>455.71</td>\n",
       "    </tr>\n",
       "  </tbody>\n",
       "</table>\n",
       "<p>3732 rows × 3 columns</p>\n",
       "</div>"
      ],
      "text/plain": [
       "       Open_    High     Low\n",
       "0       6.66    6.69    6.50\n",
       "1       6.57    6.66    6.44\n",
       "2       6.43    6.78    6.32\n",
       "3       6.72    6.97    6.71\n",
       "4       7.02    7.03    6.83\n",
       "...      ...     ...     ...\n",
       "3727  452.82  454.70  441.17\n",
       "3728  450.40  455.10  440.00\n",
       "3729  447.88  449.93  436.43\n",
       "3730  441.99  453.10  441.19\n",
       "3731  457.72  464.17  455.71\n",
       "\n",
       "[3732 rows x 3 columns]"
      ]
     },
     "execution_count": 18,
     "metadata": {},
     "output_type": "execute_result"
    }
   ],
   "source": [
    "x"
   ]
  },
  {
   "cell_type": "code",
   "execution_count": 21,
   "id": "2173a710",
   "metadata": {},
   "outputs": [],
   "source": [
    "y = df.iloc[:,4:5]"
   ]
  },
  {
   "cell_type": "code",
   "execution_count": 22,
   "id": "b1409336",
   "metadata": {},
   "outputs": [
    {
     "data": {
      "text/html": [
       "<div>\n",
       "<style scoped>\n",
       "    .dataframe tbody tr th:only-of-type {\n",
       "        vertical-align: middle;\n",
       "    }\n",
       "\n",
       "    .dataframe tbody tr th {\n",
       "        vertical-align: top;\n",
       "    }\n",
       "\n",
       "    .dataframe thead th {\n",
       "        text-align: right;\n",
       "    }\n",
       "</style>\n",
       "<table border=\"1\" class=\"dataframe\">\n",
       "  <thead>\n",
       "    <tr style=\"text-align: right;\">\n",
       "      <th></th>\n",
       "      <th>Close_</th>\n",
       "    </tr>\n",
       "  </thead>\n",
       "  <tbody>\n",
       "    <tr>\n",
       "      <th>0</th>\n",
       "      <td>6.60</td>\n",
       "    </tr>\n",
       "    <tr>\n",
       "      <th>1</th>\n",
       "      <td>6.45</td>\n",
       "    </tr>\n",
       "    <tr>\n",
       "      <th>2</th>\n",
       "      <td>6.78</td>\n",
       "    </tr>\n",
       "    <tr>\n",
       "      <th>3</th>\n",
       "      <td>6.93</td>\n",
       "    </tr>\n",
       "    <tr>\n",
       "      <th>4</th>\n",
       "      <td>6.87</td>\n",
       "    </tr>\n",
       "    <tr>\n",
       "      <th>...</th>\n",
       "      <td>...</td>\n",
       "    </tr>\n",
       "    <tr>\n",
       "      <th>3727</th>\n",
       "      <td>444.45</td>\n",
       "    </tr>\n",
       "    <tr>\n",
       "      <th>3728</th>\n",
       "      <td>450.91</td>\n",
       "    </tr>\n",
       "    <tr>\n",
       "      <th>3729</th>\n",
       "      <td>437.50</td>\n",
       "    </tr>\n",
       "    <tr>\n",
       "      <th>3730</th>\n",
       "      <td>452.04</td>\n",
       "    </tr>\n",
       "    <tr>\n",
       "      <th>3731</th>\n",
       "      <td>460.04</td>\n",
       "    </tr>\n",
       "  </tbody>\n",
       "</table>\n",
       "<p>3732 rows × 1 columns</p>\n",
       "</div>"
      ],
      "text/plain": [
       "      Close_\n",
       "0       6.60\n",
       "1       6.45\n",
       "2       6.78\n",
       "3       6.93\n",
       "4       6.87\n",
       "...      ...\n",
       "3727  444.45\n",
       "3728  450.91\n",
       "3729  437.50\n",
       "3730  452.04\n",
       "3731  460.04\n",
       "\n",
       "[3732 rows x 1 columns]"
      ]
     },
     "execution_count": 22,
     "metadata": {},
     "output_type": "execute_result"
    }
   ],
   "source": [
    "y"
   ]
  },
  {
   "cell_type": "code",
   "execution_count": 25,
   "id": "9010daef",
   "metadata": {},
   "outputs": [],
   "source": [
    "#Splitting data\n",
    "x_train, x_test, y_train, y_test = train_test_split(x, y, test_size = 0.3, random_state = 43)"
   ]
  },
  {
   "cell_type": "code",
   "execution_count": 26,
   "id": "8507cb61",
   "metadata": {},
   "outputs": [
    {
     "data": {
      "text/plain": [
       "(2612, 3)"
      ]
     },
     "execution_count": 26,
     "metadata": {},
     "output_type": "execute_result"
    }
   ],
   "source": [
    "x_train.shape"
   ]
  },
  {
   "cell_type": "code",
   "execution_count": 27,
   "id": "ef4a40b3",
   "metadata": {},
   "outputs": [
    {
     "data": {
      "text/plain": [
       "(2612, 1)"
      ]
     },
     "execution_count": 27,
     "metadata": {},
     "output_type": "execute_result"
    }
   ],
   "source": [
    "y_train.shape"
   ]
  },
  {
   "cell_type": "code",
   "execution_count": 28,
   "id": "4ead5d43",
   "metadata": {},
   "outputs": [
    {
     "data": {
      "text/plain": [
       "(1120, 3)"
      ]
     },
     "execution_count": 28,
     "metadata": {},
     "output_type": "execute_result"
    }
   ],
   "source": [
    "x_test.shape"
   ]
  },
  {
   "cell_type": "code",
   "execution_count": 29,
   "id": "99177c31",
   "metadata": {},
   "outputs": [
    {
     "data": {
      "text/plain": [
       "(1120, 1)"
      ]
     },
     "execution_count": 29,
     "metadata": {},
     "output_type": "execute_result"
    }
   ],
   "source": [
    "y_test.shape"
   ]
  },
  {
   "cell_type": "code",
   "execution_count": 34,
   "id": "fcda19a9",
   "metadata": {},
   "outputs": [
    {
     "data": {
      "text/html": [
       "<style>#sk-container-id-1 {color: black;}#sk-container-id-1 pre{padding: 0;}#sk-container-id-1 div.sk-toggleable {background-color: white;}#sk-container-id-1 label.sk-toggleable__label {cursor: pointer;display: block;width: 100%;margin-bottom: 0;padding: 0.3em;box-sizing: border-box;text-align: center;}#sk-container-id-1 label.sk-toggleable__label-arrow:before {content: \"▸\";float: left;margin-right: 0.25em;color: #696969;}#sk-container-id-1 label.sk-toggleable__label-arrow:hover:before {color: black;}#sk-container-id-1 div.sk-estimator:hover label.sk-toggleable__label-arrow:before {color: black;}#sk-container-id-1 div.sk-toggleable__content {max-height: 0;max-width: 0;overflow: hidden;text-align: left;background-color: #f0f8ff;}#sk-container-id-1 div.sk-toggleable__content pre {margin: 0.2em;color: black;border-radius: 0.25em;background-color: #f0f8ff;}#sk-container-id-1 input.sk-toggleable__control:checked~div.sk-toggleable__content {max-height: 200px;max-width: 100%;overflow: auto;}#sk-container-id-1 input.sk-toggleable__control:checked~label.sk-toggleable__label-arrow:before {content: \"▾\";}#sk-container-id-1 div.sk-estimator input.sk-toggleable__control:checked~label.sk-toggleable__label {background-color: #d4ebff;}#sk-container-id-1 div.sk-label input.sk-toggleable__control:checked~label.sk-toggleable__label {background-color: #d4ebff;}#sk-container-id-1 input.sk-hidden--visually {border: 0;clip: rect(1px 1px 1px 1px);clip: rect(1px, 1px, 1px, 1px);height: 1px;margin: -1px;overflow: hidden;padding: 0;position: absolute;width: 1px;}#sk-container-id-1 div.sk-estimator {font-family: monospace;background-color: #f0f8ff;border: 1px dotted black;border-radius: 0.25em;box-sizing: border-box;margin-bottom: 0.5em;}#sk-container-id-1 div.sk-estimator:hover {background-color: #d4ebff;}#sk-container-id-1 div.sk-parallel-item::after {content: \"\";width: 100%;border-bottom: 1px solid gray;flex-grow: 1;}#sk-container-id-1 div.sk-label:hover label.sk-toggleable__label {background-color: #d4ebff;}#sk-container-id-1 div.sk-serial::before {content: \"\";position: absolute;border-left: 1px solid gray;box-sizing: border-box;top: 0;bottom: 0;left: 50%;z-index: 0;}#sk-container-id-1 div.sk-serial {display: flex;flex-direction: column;align-items: center;background-color: white;padding-right: 0.2em;padding-left: 0.2em;position: relative;}#sk-container-id-1 div.sk-item {position: relative;z-index: 1;}#sk-container-id-1 div.sk-parallel {display: flex;align-items: stretch;justify-content: center;background-color: white;position: relative;}#sk-container-id-1 div.sk-item::before, #sk-container-id-1 div.sk-parallel-item::before {content: \"\";position: absolute;border-left: 1px solid gray;box-sizing: border-box;top: 0;bottom: 0;left: 50%;z-index: -1;}#sk-container-id-1 div.sk-parallel-item {display: flex;flex-direction: column;z-index: 1;position: relative;background-color: white;}#sk-container-id-1 div.sk-parallel-item:first-child::after {align-self: flex-end;width: 50%;}#sk-container-id-1 div.sk-parallel-item:last-child::after {align-self: flex-start;width: 50%;}#sk-container-id-1 div.sk-parallel-item:only-child::after {width: 0;}#sk-container-id-1 div.sk-dashed-wrapped {border: 1px dashed gray;margin: 0 0.4em 0.5em 0.4em;box-sizing: border-box;padding-bottom: 0.4em;background-color: white;}#sk-container-id-1 div.sk-label label {font-family: monospace;font-weight: bold;display: inline-block;line-height: 1.2em;}#sk-container-id-1 div.sk-label-container {text-align: center;}#sk-container-id-1 div.sk-container {/* jupyter's `normalize.less` sets `[hidden] { display: none; }` but bootstrap.min.css set `[hidden] { display: none !important; }` so we also need the `!important` here to be able to override the default hidden behavior on the sphinx rendered scikit-learn.org. See: https://github.com/scikit-learn/scikit-learn/issues/21755 */display: inline-block !important;position: relative;}#sk-container-id-1 div.sk-text-repr-fallback {display: none;}</style><div id=\"sk-container-id-1\" class=\"sk-top-container\"><div class=\"sk-text-repr-fallback\"><pre>LinearRegression()</pre><b>In a Jupyter environment, please rerun this cell to show the HTML representation or trust the notebook. <br />On GitHub, the HTML representation is unable to render, please try loading this page with nbviewer.org.</b></div><div class=\"sk-container\" hidden><div class=\"sk-item\"><div class=\"sk-estimator sk-toggleable\"><input class=\"sk-toggleable__control sk-hidden--visually\" id=\"sk-estimator-id-1\" type=\"checkbox\" checked><label for=\"sk-estimator-id-1\" class=\"sk-toggleable__label sk-toggleable__label-arrow\">LinearRegression</label><div class=\"sk-toggleable__content\"><pre>LinearRegression()</pre></div></div></div></div></div>"
      ],
      "text/plain": [
       "LinearRegression()"
      ]
     },
     "execution_count": 34,
     "metadata": {},
     "output_type": "execute_result"
    }
   ],
   "source": [
    "#Training\n",
    "lr = LinearRegression()\n",
    "lr.fit(x_train, y_train)"
   ]
  },
  {
   "cell_type": "code",
   "execution_count": 35,
   "id": "d3041654",
   "metadata": {},
   "outputs": [
    {
     "data": {
      "text/plain": [
       "array([[-0.59135437,  0.75743968,  0.83477948]])"
      ]
     },
     "execution_count": 35,
     "metadata": {},
     "output_type": "execute_result"
    }
   ],
   "source": [
    "lr.coef_"
   ]
  },
  {
   "cell_type": "code",
   "execution_count": 36,
   "id": "5a88250d",
   "metadata": {},
   "outputs": [
    {
     "data": {
      "text/plain": [
       "array([0.0218706])"
      ]
     },
     "execution_count": 36,
     "metadata": {},
     "output_type": "execute_result"
    }
   ],
   "source": [
    "lr.intercept_"
   ]
  },
  {
   "cell_type": "code",
   "execution_count": 37,
   "id": "1649c1e5",
   "metadata": {},
   "outputs": [],
   "source": [
    "#Predictions\n",
    "predictions = lr.predict(x_test)"
   ]
  },
  {
   "cell_type": "code",
   "execution_count": 38,
   "id": "eadcdc1c",
   "metadata": {},
   "outputs": [
    {
     "data": {
      "text/plain": [
       "0.6977495878621897"
      ]
     },
     "execution_count": 38,
     "metadata": {},
     "output_type": "execute_result"
    }
   ],
   "source": [
    "#Cost\n",
    "cost = mean_squared_error(y_test, predictions)\n",
    "cost"
   ]
  },
  {
   "cell_type": "code",
   "execution_count": 42,
   "id": "fa6d78a8",
   "metadata": {},
   "outputs": [
    {
     "name": "stderr",
     "output_type": "stream",
     "text": [
      "No artists with labels found to put in legend.  Note that artists whose label start with an underscore are ignored when legend() is called with no argument.\n"
     ]
    },
    {
     "data": {
      "image/png": "[encoded data removed]",
      "text/plain": [
       "<Figure size 640x480 with 1 Axes>"
      ]
     },
     "metadata": {},
     "output_type": "display_data"
    }
   ],
   "source": [
    "fig, ax = plt.subplots()\n",
    "ax.plot(x_test, y_test, \"*\", 'Original', color = 'green')\n",
    "ax.plot(x_test, predictions, \"+\", 'Predicted', color = 'red')\n",
    "\n",
    "legend = ax.legend()\n",
    "\n",
    "plt.plot(x_test, y_test, \"*\", color = 'green')\n",
    "plt.plot(x_test, predictions, \"+\", color = 'red')\n",
    "plt.show()"
   ]
  },
  {
   "cell_type": "code",
   "execution_count": 43,
   "id": "738d55ea",
   "metadata": {},
   "outputs": [],
   "source": [
    "#Assumptions\n",
    "residuals = predictions - y_test"
   ]
  },
  {
   "cell_type": "code",
   "execution_count": 45,
   "id": "489536e2",
   "metadata": {},
   "outputs": [
    {
     "data": {
      "text/html": [
       "<div>\n",
       "<style scoped>\n",
       "    .dataframe tbody tr th:only-of-type {\n",
       "        vertical-align: middle;\n",
       "    }\n",
       "\n",
       "    .dataframe tbody tr th {\n",
       "        vertical-align: top;\n",
       "    }\n",
       "\n",
       "    .dataframe thead th {\n",
       "        text-align: right;\n",
       "    }\n",
       "</style>\n",
       "<table border=\"1\" class=\"dataframe\">\n",
       "  <thead>\n",
       "    <tr style=\"text-align: right;\">\n",
       "      <th></th>\n",
       "      <th>Close_</th>\n",
       "    </tr>\n",
       "  </thead>\n",
       "  <tbody>\n",
       "    <tr>\n",
       "      <th>2860</th>\n",
       "      <td>0.179404</td>\n",
       "    </tr>\n",
       "    <tr>\n",
       "      <th>488</th>\n",
       "      <td>-0.040103</td>\n",
       "    </tr>\n",
       "    <tr>\n",
       "      <th>1388</th>\n",
       "      <td>-0.062909</td>\n",
       "    </tr>\n",
       "    <tr>\n",
       "      <th>387</th>\n",
       "      <td>0.074007</td>\n",
       "    </tr>\n",
       "    <tr>\n",
       "      <th>2810</th>\n",
       "      <td>0.759351</td>\n",
       "    </tr>\n",
       "    <tr>\n",
       "      <th>...</th>\n",
       "      <td>...</td>\n",
       "    </tr>\n",
       "    <tr>\n",
       "      <th>1642</th>\n",
       "      <td>0.013865</td>\n",
       "    </tr>\n",
       "    <tr>\n",
       "      <th>2778</th>\n",
       "      <td>0.875280</td>\n",
       "    </tr>\n",
       "    <tr>\n",
       "      <th>1516</th>\n",
       "      <td>-0.237362</td>\n",
       "    </tr>\n",
       "    <tr>\n",
       "      <th>337</th>\n",
       "      <td>-0.035681</td>\n",
       "    </tr>\n",
       "    <tr>\n",
       "      <th>2753</th>\n",
       "      <td>-0.261881</td>\n",
       "    </tr>\n",
       "  </tbody>\n",
       "</table>\n",
       "<p>1120 rows × 1 columns</p>\n",
       "</div>"
      ],
      "text/plain": [
       "        Close_\n",
       "2860  0.179404\n",
       "488  -0.040103\n",
       "1388 -0.062909\n",
       "387   0.074007\n",
       "2810  0.759351\n",
       "...        ...\n",
       "1642  0.013865\n",
       "2778  0.875280\n",
       "1516 -0.237362\n",
       "337  -0.035681\n",
       "2753 -0.261881\n",
       "\n",
       "[1120 rows x 1 columns]"
      ]
     },
     "execution_count": 45,
     "metadata": {},
     "output_type": "execute_result"
    }
   ],
   "source": [
    "residuals"
   ]
  },
  {
   "cell_type": "code",
   "execution_count": 46,
   "id": "a0b7c88f",
   "metadata": {},
   "outputs": [
    {
     "data": {
      "image/png": "[encoded data removed]",
      "text/plain": [
       "<Figure size 640x480 with 1 Axes>"
      ]
     },
     "metadata": {},
     "output_type": "display_data"
    }
   ],
   "source": [
    "plt.scatter(predictions, residuals)\n",
    "plt.xlabel('Predictions')\n",
    "plt.ylabel('Residuals')\n",
    "plt.show()"
   ]
  },
  {
   "cell_type": "code",
   "execution_count": 47,
   "id": "a16f787a",
   "metadata": {},
   "outputs": [
    {
     "name": "stderr",
     "output_type": "stream",
     "text": [
      "/var/folders/91/lvlrfqfd32b83_21yxnszsn00000gn/T/ipykernel_1142/2665350104.py:1: UserWarning: \n",
      "\n",
      "`distplot` is a deprecated function and will be removed in seaborn v0.14.0.\n",
      "\n",
      "Please adapt your code to use either `displot` (a figure-level function with\n",
      "similar flexibility) or `histplot` (an axes-level function for histograms).\n",
      "\n",
      "For a guide to updating your code to use the new functions, please see\n",
      "https://gist.github.com/mwaskom/de44147ed2974457ad6372750bbe5751\n",
      "\n",
      "  sns.distplot(residuals)\n"
     ]
    },
    {
     "data": {
      "text/plain": [
       "<Axes: ylabel='Density'>"
      ]
     },
     "execution_count": 47,
     "metadata": {},
     "output_type": "execute_result"
    },
    {
     "data": {
      "image/png": "[encoded data removed]",
      "text/plain": [
       "<Figure size 640x480 with 1 Axes>"
      ]
     },
     "metadata": {},
     "output_type": "display_data"
    }
   ],
   "source": [
    "sns.distplot(residuals)"
   ]
  },
  {
   "cell_type": "code",
   "execution_count": 50,
   "id": "6f22eb17",
   "metadata": {},
   "outputs": [
    {
     "data": {
      "text/html": [
       "<div>\n",
       "<style scoped>\n",
       "    .dataframe tbody tr th:only-of-type {\n",
       "        vertical-align: middle;\n",
       "    }\n",
       "\n",
       "    .dataframe tbody tr th {\n",
       "        vertical-align: top;\n",
       "    }\n",
       "\n",
       "    .dataframe thead th {\n",
       "        text-align: right;\n",
       "    }\n",
       "</style>\n",
       "<table border=\"1\" class=\"dataframe\">\n",
       "  <thead>\n",
       "    <tr style=\"text-align: right;\">\n",
       "      <th></th>\n",
       "      <th>const</th>\n",
       "      <th>Open_</th>\n",
       "      <th>High</th>\n",
       "      <th>Low</th>\n",
       "    </tr>\n",
       "  </thead>\n",
       "  <tbody>\n",
       "    <tr>\n",
       "      <th>2576</th>\n",
       "      <td>1.0</td>\n",
       "      <td>93.32</td>\n",
       "      <td>93.45</td>\n",
       "      <td>91.73</td>\n",
       "    </tr>\n",
       "    <tr>\n",
       "      <th>134</th>\n",
       "      <td>1.0</td>\n",
       "      <td>8.74</td>\n",
       "      <td>8.83</td>\n",
       "      <td>8.54</td>\n",
       "    </tr>\n",
       "    <tr>\n",
       "      <th>503</th>\n",
       "      <td>1.0</td>\n",
       "      <td>21.32</td>\n",
       "      <td>21.36</td>\n",
       "      <td>20.89</td>\n",
       "    </tr>\n",
       "    <tr>\n",
       "      <th>2402</th>\n",
       "      <td>1.0</td>\n",
       "      <td>117.40</td>\n",
       "      <td>117.68</td>\n",
       "      <td>115.23</td>\n",
       "    </tr>\n",
       "    <tr>\n",
       "      <th>1397</th>\n",
       "      <td>1.0</td>\n",
       "      <td>43.01</td>\n",
       "      <td>43.32</td>\n",
       "      <td>42.72</td>\n",
       "    </tr>\n",
       "    <tr>\n",
       "      <th>...</th>\n",
       "      <td>...</td>\n",
       "      <td>...</td>\n",
       "      <td>...</td>\n",
       "      <td>...</td>\n",
       "    </tr>\n",
       "    <tr>\n",
       "      <th>2106</th>\n",
       "      <td>1.0</td>\n",
       "      <td>67.23</td>\n",
       "      <td>68.16</td>\n",
       "      <td>67.15</td>\n",
       "    </tr>\n",
       "    <tr>\n",
       "      <th>2325</th>\n",
       "      <td>1.0</td>\n",
       "      <td>101.68</td>\n",
       "      <td>102.93</td>\n",
       "      <td>99.38</td>\n",
       "    </tr>\n",
       "    <tr>\n",
       "      <th>2303</th>\n",
       "      <td>1.0</td>\n",
       "      <td>104.40</td>\n",
       "      <td>104.80</td>\n",
       "      <td>101.78</td>\n",
       "    </tr>\n",
       "    <tr>\n",
       "      <th>3392</th>\n",
       "      <td>1.0</td>\n",
       "      <td>195.23</td>\n",
       "      <td>197.26</td>\n",
       "      <td>194.74</td>\n",
       "    </tr>\n",
       "    <tr>\n",
       "      <th>1860</th>\n",
       "      <td>1.0</td>\n",
       "      <td>53.84</td>\n",
       "      <td>55.00</td>\n",
       "      <td>53.26</td>\n",
       "    </tr>\n",
       "  </tbody>\n",
       "</table>\n",
       "<p>2612 rows × 4 columns</p>\n",
       "</div>"
      ],
      "text/plain": [
       "      const   Open_    High     Low\n",
       "2576    1.0   93.32   93.45   91.73\n",
       "134     1.0    8.74    8.83    8.54\n",
       "503     1.0   21.32   21.36   20.89\n",
       "2402    1.0  117.40  117.68  115.23\n",
       "1397    1.0   43.01   43.32   42.72\n",
       "...     ...     ...     ...     ...\n",
       "2106    1.0   67.23   68.16   67.15\n",
       "2325    1.0  101.68  102.93   99.38\n",
       "2303    1.0  104.40  104.80  101.78\n",
       "3392    1.0  195.23  197.26  194.74\n",
       "1860    1.0   53.84   55.00   53.26\n",
       "\n",
       "[2612 rows x 4 columns]"
      ]
     },
     "execution_count": 50,
     "metadata": {},
     "output_type": "execute_result"
    }
   ],
   "source": [
    "x_with_constant = sm.add_constant(x_train)\n",
    "x_with_constant"
   ]
  },
  {
   "cell_type": "code",
   "execution_count": 51,
   "id": "c9fb0342",
   "metadata": {},
   "outputs": [],
   "source": [
    "model = sm.OLS(y_train, x_with_constant)"
   ]
  },
  {
   "cell_type": "code",
   "execution_count": 52,
   "id": "c0912a4f",
   "metadata": {},
   "outputs": [],
   "source": [
    "result = model.fit()"
   ]
  },
  {
   "cell_type": "code",
   "execution_count": 53,
   "id": "25289675",
   "metadata": {},
   "outputs": [
    {
     "data": {
      "text/plain": [
       "const    0.021871\n",
       "Open_   -0.591354\n",
       "High     0.757440\n",
       "Low      0.834779\n",
       "dtype: float64"
      ]
     },
     "execution_count": 53,
     "metadata": {},
     "output_type": "execute_result"
    }
   ],
   "source": [
    "result.params"
   ]
  },
  {
   "cell_type": "code",
   "execution_count": 54,
   "id": "1ca29758",
   "metadata": {},
   "outputs": [
    {
     "name": "stdout",
     "output_type": "stream",
     "text": [
      "                            OLS Regression Results                            \n",
      "==============================================================================\n",
      "Dep. Variable:                 Close_   R-squared:                       1.000\n",
      "Model:                            OLS   Adj. R-squared:                  1.000\n",
      "Method:                 Least Squares   F-statistic:                 7.907e+06\n",
      "Date:                Tue, 20 Feb 2024   Prob (F-statistic):               0.00\n",
      "Time:                        11:17:01   Log-Likelihood:                -3257.2\n",
      "No. Observations:                2612   AIC:                             6522.\n",
      "Df Residuals:                    2608   BIC:                             6546.\n",
      "Df Model:                           3                                         \n",
      "Covariance Type:            nonrobust                                         \n",
      "==============================================================================\n",
      "                 coef    std err          t      P>|t|      [0.025      0.975]\n",
      "------------------------------------------------------------------------------\n",
      "const          0.0219      0.025      0.893      0.372      -0.026       0.070\n",
      "Open_         -0.5914      0.018    -33.338      0.000      -0.626      -0.557\n",
      "High           0.7574      0.014     53.582      0.000       0.730       0.785\n",
      "Low            0.8348      0.014     60.999      0.000       0.808       0.862\n",
      "==============================================================================\n",
      "Omnibus:                     1241.898   Durbin-Watson:                   2.012\n",
      "Prob(Omnibus):                  0.000   Jarque-Bera (JB):           413914.444\n",
      "Skew:                          -0.984   Prob(JB):                         0.00\n",
      "Kurtosis:                      64.639   Cond. No.                         309.\n",
      "==============================================================================\n",
      "\n",
      "Notes:\n",
      "[1] Standard Errors assume that the covariance matrix of the errors is correctly specified.\n"
     ]
    }
   ],
   "source": [
    "print(result.summary())"
   ]
  },
  {
   "cell_type": "code",
   "execution_count": null,
   "id": "7a7a2c32",
   "metadata": {},
   "outputs": [],
   "source": []
  }
 ],
 "metadata": {
  "kernelspec": {
   "display_name": "Python 3 (ipykernel)",
   "language": "python",
   "name": "python3"
  },
  "language_info": {
   "codemirror_mode": {
    "name": "ipython",
    "version": 3
   },
   "file_extension": ".py",
   "mimetype": "text/x-python",
   "name": "python",
   "nbconvert_exporter": "python",
   "pygments_lexer": "ipython3",
   "version": "3.11.4"
  }
 },
 "nbformat": 4,
 "nbformat_minor": 5
}
